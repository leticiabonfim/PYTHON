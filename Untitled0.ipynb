{
  "nbformat": 4,
  "nbformat_minor": 0,
  "metadata": {
    "colab": {
      "provenance": [],
      "authorship_tag": "ABX9TyN8Y7kkUXjQ7Q5AR/HcrO8N",
      "include_colab_link": true
    },
    "kernelspec": {
      "name": "python3",
      "display_name": "Python 3"
    },
    "language_info": {
      "name": "python"
    }
  },
  "cells": [
    {
      "cell_type": "markdown",
      "metadata": {
        "id": "view-in-github",
        "colab_type": "text"
      },
      "source": [
        "<a href=\"https://colab.research.google.com/github/leticiabonfim/PYTHON/blob/main/Untitled0.ipynb\" target=\"_parent\"><img src=\"https://colab.research.google.com/assets/colab-badge.svg\" alt=\"Open In Colab\"/></a>"
      ]
    },
    {
      "cell_type": "code",
      "execution_count": null,
      "metadata": {
        "id": "HgGB1cRNm4KU"
      },
      "outputs": [],
      "source": []
    },
    {
      "cell_type": "markdown",
      "source": [
        "AULA2"
      ],
      "metadata": {
        "id": "3Gj7KNXhhjHl"
      }
    },
    {
      "cell_type": "code",
      "source": [
        "livro_ficcao = 8\n",
        "livro_n_ficcao = 10\n",
        "livro_infantil = 6\n",
        "pontos_rodrigo = livro_ficcao + livro_n_ficcao + livro_infantil\n",
        "print(f\"Os pontos totais do Rodrigo são {pontos_rodrigo}\")\n",
        "pontos_ana = 2 * livro_ficcao + 5 * livro_infantil\n",
        "print(f\"Os pontos totais de Ana são {pontos_ana}\")\n",
        "\n",
        "pontos_carlos = 1 * livro_ficcao + 3 * livro_n_ficcao + 3 * livro_infantil\n",
        "print(f\"Os pontos totais de carlos são {pontos_carlos}\")\n",
        "\n",
        "pontos_totais = pontos_rodrigo + pontos_ana + pontos_carlos\n",
        "print(f\"O total de pontos acumulados de Rodrigo e Ana juntos é {pontos_totais}\")"
      ],
      "metadata": {
        "colab": {
          "base_uri": "https://localhost:8080/"
        },
        "id": "1FgEUD4Gjbfl",
        "outputId": "5c89b832-1dbb-4e4a-d7c7-c5de5b9fb09f"
      },
      "execution_count": null,
      "outputs": [
        {
          "output_type": "stream",
          "name": "stdout",
          "text": [
            "Os pontos totais do Rodrigo são 24\n",
            "Os pontos totais de Ana são 46\n",
            "Os pontos totais de carlos são 56\n",
            "O total de pontos acumulados de Rodrigo e Ana juntos é 126\n"
          ]
        }
      ]
    },
    {
      "cell_type": "code",
      "source": [
        "total_de_figurinhas = int(input(\"Digite o total de figurinhas: \"))\n",
        "numero_de_amigos = int(input(\"Digite o número de amigos: \"))\n",
        "figurinhas_amigo = total_de_figurinhas // (numero_de_amigos + 2)\n",
        "figurinhas_joao = 2 * figurinhas_amigo\n",
        "\n",
        "\n",
        "print(f\"João recebeu {figurinhas_joao} figurinhas\")"
      ],
      "metadata": {
        "colab": {
          "base_uri": "https://localhost:8080/"
        },
        "id": "rZ7fWeEFsjtq",
        "outputId": "6e772e8d-619e-40f4-dea4-485db7e877fa"
      },
      "execution_count": null,
      "outputs": [
        {
          "output_type": "stream",
          "name": "stdout",
          "text": [
            "Digite o total de figurinhas: 20\n",
            "Digite o número de amigos: 3\n",
            "João recebeu 8 figurinhas\n"
          ]
        }
      ]
    },
    {
      "cell_type": "markdown",
      "source": [
        "Aula 1"
      ],
      "metadata": {
        "id": "FH2ho5htnXYW"
      }
    },
    {
      "cell_type": "code",
      "source": [
        "print(\"I competição de programação dá Start\")"
      ],
      "metadata": {
        "id": "pCOSmwNanl4T"
      },
      "execution_count": null,
      "outputs": []
    },
    {
      "cell_type": "code",
      "source": [
        "ano = \"VI\""
      ],
      "metadata": {
        "id": "VW1Gj4pHovnc"
      },
      "execution_count": null,
      "outputs": []
    },
    {
      "cell_type": "code",
      "source": [
        "print(ano, \"competição de programação da Start\")"
      ],
      "metadata": {
        "colab": {
          "base_uri": "https://localhost:8080/",
          "height": 141
        },
        "id": "xQF1f9Igo1N_",
        "outputId": "82ed4aa5-48b1-4718-c636-be4266848934"
      },
      "execution_count": 1,
      "outputs": [
        {
          "output_type": "error",
          "ename": "NameError",
          "evalue": "name 'ano' is not defined",
          "traceback": [
            "\u001b[0;31m---------------------------------------------------------------------------\u001b[0m",
            "\u001b[0;31mNameError\u001b[0m                                 Traceback (most recent call last)",
            "\u001b[0;32m/tmp/ipython-input-3577271047.py\u001b[0m in \u001b[0;36m<cell line: 0>\u001b[0;34m()\u001b[0m\n\u001b[0;32m----> 1\u001b[0;31m \u001b[0mprint\u001b[0m\u001b[0;34m(\u001b[0m\u001b[0mano\u001b[0m\u001b[0;34m,\u001b[0m \u001b[0;34m\"competição de programação da Start\"\u001b[0m\u001b[0;34m)\u001b[0m\u001b[0;34m\u001b[0m\u001b[0;34m\u001b[0m\u001b[0m\n\u001b[0m",
            "\u001b[0;31mNameError\u001b[0m: name 'ano' is not defined"
          ]
        }
      ]
    },
    {
      "cell_type": "markdown",
      "source": [
        "Aula 3"
      ],
      "metadata": {
        "id": "5g5ozIH7oWSr"
      }
    },
    {
      "cell_type": "code",
      "source": [
        "numero_de_alunos = int(input(\"Digite a quantidade de alunos: \"))\n",
        "numero_de_monitores = int(input(\"Digite a quantidade de monitores: \"))\n",
        "if numero_de_alunos + numero_de_monitores <= 50:\n",
        " resposta_positiva = \"pode ir\"\n",
        " resposta_negativa = \"não pode ir\"\n",
        "if numero_de_alunos + numero_de_monitores <= 50:\n",
        " print(resposta_positiva)\n",
        "else:\n",
        " print(resposta_negativa)"
      ],
      "metadata": {
        "colab": {
          "base_uri": "https://localhost:8080/"
        },
        "id": "30DjtiDfoadF",
        "outputId": "3206c50a-d6b3-4d2d-e66b-a56a4b630fec"
      },
      "execution_count": 2,
      "outputs": [
        {
          "output_type": "stream",
          "name": "stdout",
          "text": [
            "Digite a quantidade de alunos: 30\n",
            "Digite a quantidade de monitores: 5\n",
            "pode ir\n"
          ]
        }
      ]
    },
    {
      "cell_type": "code",
      "source": [
        "quantidade_professores = 8\n",
        "numero_de_alunos =  int(input(\"Digite a quantidade de alunos: \"))\n",
        "numero_de_monitores = int(input(\"Digite a quantidade de monitores: \"))\n",
        "if numero_de_alunos + numero_de_monitores + quantidade_professores <= 30:\n",
        "  resposta_positiva = \"pode ir\"\n",
        "  resposta_negativa = \"não pode ir\"\n",
        "if numero_de_alunos + numero_de_monitores + quantidade_professores<= 30:\n",
        "   print(resposta_positiva)\n",
        "else:\n",
        "   print(resposta_negativa)\n"
      ],
      "metadata": {
        "colab": {
          "base_uri": "https://localhost:8080/"
        },
        "id": "HG0x3e5VsJG6",
        "outputId": "a7b776a5-f49b-47de-84f7-20d8d9d4e0d8"
      },
      "execution_count": 11,
      "outputs": [
        {
          "output_type": "stream",
          "name": "stdout",
          "text": [
            "Digite a quantidade de alunos: 15\n",
            "Digite a quantidade de monitores: 8\n",
            "não pode ir\n"
          ]
        }
      ]
    }
  ]
}